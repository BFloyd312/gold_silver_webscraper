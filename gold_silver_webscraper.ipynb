{
 "cells": [
  {
   "cell_type": "markdown",
   "metadata": {},
   "source": [
    "# Gold & Silver Data Scraper for Investing.com\n"
   ]
  },
  {
   "cell_type": "markdown",
   "metadata": {},
   "source": [
    "## Goal: Scrape latest daily price from Investing.com and save the data in a csv format\n"
   ]
  },
  {
   "cell_type": "code",
   "execution_count": 1,
   "metadata": {},
   "outputs": [],
   "source": [
    "from bs4 import BeautifulSoup\n",
    "import requests\n",
    "import pandas as pd\n",
    "import datetime\n",
    "from urllib.request import Request, urlopen\n"
   ]
  },
  {
   "cell_type": "markdown",
   "metadata": {},
   "source": [
    "### The urls we will be scraping the data from:"
   ]
  },
  {
   "cell_type": "code",
   "execution_count": 2,
   "metadata": {},
   "outputs": [],
   "source": [
    "url_gold = 'https://www.investing.com/commodities/gold-historical-data'\n",
    "url_silver = 'https://www.investing.com/commodities/silver-historical-data'\n"
   ]
  },
  {
   "cell_type": "markdown",
   "metadata": {},
   "source": [
    "### Gives our program permission to access the web page:"
   ]
  },
  {
   "cell_type": "code",
   "execution_count": 3,
   "metadata": {},
   "outputs": [],
   "source": [
    "req_gold = Request(url_gold, headers={'User-Agent': 'Mozilla/5.0'})\n",
    "req_silver = Request(url_silver, headers={'User-Agent': 'Mozilla/5.0'})"
   ]
  },
  {
   "cell_type": "markdown",
   "metadata": {},
   "source": [
    "### Access the webpage and grab our soup data"
   ]
  },
  {
   "cell_type": "code",
   "execution_count": 4,
   "metadata": {},
   "outputs": [],
   "source": [
    "webpage_gold = urlopen(req_gold).read()\n",
    "webpage_silver = urlopen(req_silver).read()\n",
    "\n",
    "soup_gold = BeautifulSoup(webpage_gold,'html.parser')\n",
    "soup_silver = BeautifulSoup(webpage_silver,'html.parser')\n"
   ]
  },
  {
   "cell_type": "markdown",
   "metadata": {},
   "source": [
    "### Creating the web scraper which takes in the soup and grabs relevent data"
   ]
  },
  {
   "cell_type": "code",
   "execution_count": 5,
   "metadata": {},
   "outputs": [],
   "source": [
    "def scraper(soup):\n",
    "    count = 0\n",
    "    date = []\n",
    "    price = []\n",
    "    open = []\n",
    "    high = []\n",
    "    low = []\n",
    "    volume = []\n",
    "    change = []\n",
    "    \n",
    "    for table in soup.find_all('table',{'class':'genTbl closedTbl historicalTbl'}):\n",
    "        for tr in table.find_all('tr'):\n",
    "            for td in tr.find_all('td'):\n",
    "                \n",
    "                if count == 0:\n",
    "                    formatted_date = datetime.datetime.strptime(td.text, '%b %d, %Y').strftime('%Y-%m-%d')\n",
    "                    date.append(formatted_date)\n",
    "                elif count == 1:\n",
    "                    price.append(td.text)\n",
    "                elif count == 2:\n",
    "                    open.append(td.text)\n",
    "                elif count == 3:\n",
    "                    high.append(td.text)\n",
    "                elif count == 4:\n",
    "                    low.append(td.text)\n",
    "                elif count == 5:\n",
    "                    volume.append(td.text)\n",
    "                elif count == 6:\n",
    "                    change.append(td.text)\n",
    "                    \n",
    "                count += 1\n",
    "                \n",
    "                if count == 7:\n",
    "                    count = 0\n",
    "    df = list(zip(date,price,open,high,low,volume, change))\n",
    "    df = pd.DataFrame(df, columns = ['Date','Price','Open','High','Low','Volume','Change'])\n",
    "    return df\n"
   ]
  },
  {
   "cell_type": "markdown",
   "metadata": {},
   "source": [
    "### Create the dataframe for each commodity and assign the columns"
   ]
  },
  {
   "cell_type": "code",
   "execution_count": 6,
   "metadata": {},
   "outputs": [],
   "source": [
    "df_gold = scraper(soup_gold)\n",
    "df_silver = scraper(soup_silver)"
   ]
  },
  {
   "cell_type": "markdown",
   "metadata": {},
   "source": [
    "### Save the data to a csv file"
   ]
  },
  {
   "cell_type": "code",
   "execution_count": 7,
   "metadata": {},
   "outputs": [],
   "source": [
    "df_gold.to_csv('Gold.csv')\n",
    "df_silver.to_csv('Silver.csv')"
   ]
  }
 ],
 "metadata": {
  "kernelspec": {
   "display_name": "Python 3",
   "language": "python",
   "name": "python3"
  },
  "language_info": {
   "codemirror_mode": {
    "name": "ipython",
    "version": 3
   },
   "file_extension": ".py",
   "mimetype": "text/x-python",
   "name": "python",
   "nbconvert_exporter": "python",
   "pygments_lexer": "ipython3",
   "version": "3.7.3"
  }
 },
 "nbformat": 4,
 "nbformat_minor": 2
}
